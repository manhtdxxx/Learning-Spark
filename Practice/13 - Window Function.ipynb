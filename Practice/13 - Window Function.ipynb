{
 "cells": [
  {
   "cell_type": "code",
   "execution_count": 1,
   "id": "3767824d",
   "metadata": {},
   "outputs": [],
   "source": [
    "from pyspark.sql import SparkSession\n",
    "from pyspark.sql.window import WindowSpec, Window\n",
    "from pyspark.sql.functions import *"
   ]
  },
  {
   "cell_type": "code",
   "execution_count": 2,
   "id": "24eed8ac",
   "metadata": {},
   "outputs": [
    {
     "data": {
      "text/html": [
       "\n",
       "            <div>\n",
       "                <p><b>SparkSession - in-memory</b></p>\n",
       "                \n",
       "        <div>\n",
       "            <p><b>SparkContext</b></p>\n",
       "\n",
       "            <p><a href=\"http://DESKTOP-37B9J99:4040\">Spark UI</a></p>\n",
       "\n",
       "            <dl>\n",
       "              <dt>Version</dt>\n",
       "                <dd><code>v3.5.3</code></dd>\n",
       "              <dt>Master</dt>\n",
       "                <dd><code>local[*]</code></dd>\n",
       "              <dt>AppName</dt>\n",
       "                <dd><code>Window Functions</code></dd>\n",
       "            </dl>\n",
       "        </div>\n",
       "        \n",
       "            </div>\n",
       "        "
      ],
      "text/plain": [
       "<pyspark.sql.session.SparkSession at 0x20e16a94d60>"
      ]
     },
     "execution_count": 2,
     "metadata": {},
     "output_type": "execute_result"
    }
   ],
   "source": [
    "spark = SparkSession.builder \\\n",
    ".master(\"local[*]\") \\\n",
    ".appName(\"Window Functions\") \\\n",
    ".getOrCreate()\n",
    "\n",
    "spark"
   ]
  },
  {
   "cell_type": "code",
   "execution_count": 3,
   "id": "eb5c4ec0",
   "metadata": {},
   "outputs": [
    {
     "name": "stdout",
     "output_type": "stream",
     "text": [
      "+---------+-------+-----------+-------------+------------+\n",
      "|  country|weeknum|numinvoices|totalquantity|invoicevalue|\n",
      "+---------+-------+-----------+-------------+------------+\n",
      "|    Spain|     49|          1|           67|      174.72|\n",
      "|  Germany|     48|         11|         1795|      1600.0|\n",
      "|Lithuania|     48|          3|          622|     1598.06|\n",
      "|  Germany|     49|         12|         1852|      1800.0|\n",
      "|  Bahrain|     51|          1|           54|      205.74|\n",
      "+---------+-------+-----------+-------------+------------+\n",
      "only showing top 5 rows\n",
      "\n"
     ]
    }
   ],
   "source": [
    "order_df = spark.read.csv(\"./dataset/windowdatamodified.csv\", header=True, inferSchema=True)\n",
    "order_df.show(5)"
   ]
  },
  {
   "cell_type": "code",
   "execution_count": 4,
   "id": "acbdaadf",
   "metadata": {},
   "outputs": [
    {
     "name": "stdout",
     "output_type": "stream",
     "text": [
      "+---------------+-------+-----------+-------------+------------+\n",
      "|        country|weeknum|numinvoices|totalquantity|invoicevalue|\n",
      "+---------------+-------+-----------+-------------+------------+\n",
      "|      Australia|     50|          2|          133|      387.95|\n",
      "|      Australia|     49|          1|          214|       258.9|\n",
      "|      Australia|     48|          1|          107|      358.25|\n",
      "|        Austria|     50|          2|            3|      257.04|\n",
      "|        Bahrain|     51|          1|           54|      205.74|\n",
      "|        Belgium|     51|          2|          942|       800.0|\n",
      "|        Belgium|     50|          2|          285|      625.16|\n",
      "|        Belgium|     48|          1|          528|       800.0|\n",
      "|Channel Islands|     49|          1|           80|      363.53|\n",
      "|         Cyprus|     50|          1|          917|     1590.82|\n",
      "|        Denmark|     49|          1|          454|      1281.5|\n",
      "|        Finland|     50|          1|         1254|       892.8|\n",
      "|         France|     51|          5|          847|       500.0|\n",
      "|         France|     50|          6|          529|      537.32|\n",
      "|         France|     49|          9|         2303|       500.0|\n",
      "|         France|     48|          4|         1299|       500.0|\n",
      "|        Germany|     51|          5|         1103|      1600.0|\n",
      "|        Germany|     50|         15|         1973|      1800.0|\n",
      "|        Germany|     49|         12|         1852|      1800.0|\n",
      "|        Germany|     48|         11|         1795|      1600.0|\n",
      "+---------------+-------+-----------+-------------+------------+\n",
      "only showing top 20 rows\n",
      "\n"
     ]
    }
   ],
   "source": [
    "order_df = order_df.sort(col(\"country\").asc(), col(\"weeknum\").desc())\n",
    "order_df.show()"
   ]
  },
  {
   "cell_type": "markdown",
   "id": "f96644ab",
   "metadata": {},
   "source": [
    "### Agg Func + Window"
   ]
  },
  {
   "cell_type": "code",
   "execution_count": 5,
   "id": "2ff2ba20",
   "metadata": {},
   "outputs": [],
   "source": [
    "window1 = Window.partitionBy(\"country\")"
   ]
  },
  {
   "cell_type": "code",
   "execution_count": 6,
   "id": "f93ef62a",
   "metadata": {},
   "outputs": [
    {
     "name": "stdout",
     "output_type": "stream",
     "text": [
      "+---------------+-------+-----------+-------------+------------+---------+---------+------------------+------------------+\n",
      "|        country|weeknum|numinvoices|totalquantity|invoicevalue|max_value|min_value|         sum_value|         avg_value|\n",
      "+---------------+-------+-----------+-------------+------------+---------+---------+------------------+------------------+\n",
      "|      Australia|     50|          2|          133|      387.95|   387.95|    258.9|1005.0999999999999| 335.0333333333333|\n",
      "|      Australia|     49|          1|          214|       258.9|   387.95|    258.9|1005.0999999999999| 335.0333333333333|\n",
      "|      Australia|     48|          1|          107|      358.25|   387.95|    258.9|1005.0999999999999| 335.0333333333333|\n",
      "|        Austria|     50|          2|            3|      257.04|   257.04|   257.04|            257.04|            257.04|\n",
      "|        Bahrain|     51|          1|           54|      205.74|   205.74|   205.74|            205.74|            205.74|\n",
      "|        Belgium|     51|          2|          942|       800.0|    800.0|   625.16|           2225.16| 741.7199999999999|\n",
      "|        Belgium|     50|          2|          285|      625.16|    800.0|   625.16|           2225.16| 741.7199999999999|\n",
      "|        Belgium|     48|          1|          528|       800.0|    800.0|   625.16|           2225.16| 741.7199999999999|\n",
      "|Channel Islands|     49|          1|           80|      363.53|   363.53|   363.53|            363.53|            363.53|\n",
      "|         Cyprus|     50|          1|          917|     1590.82|  1590.82|  1590.82|           1590.82|           1590.82|\n",
      "|        Denmark|     49|          1|          454|      1281.5|   1281.5|   1281.5|            1281.5|            1281.5|\n",
      "|        Finland|     50|          1|         1254|       892.8|    892.8|    892.8|             892.8|             892.8|\n",
      "|         France|     51|          5|          847|       500.0|   537.32|    500.0|2037.3200000000002|509.33000000000004|\n",
      "|         France|     50|          6|          529|      537.32|   537.32|    500.0|2037.3200000000002|509.33000000000004|\n",
      "|         France|     49|          9|         2303|       500.0|   537.32|    500.0|2037.3200000000002|509.33000000000004|\n",
      "|         France|     48|          4|         1299|       500.0|   537.32|    500.0|2037.3200000000002|509.33000000000004|\n",
      "|        Germany|     51|          5|         1103|      1600.0|   1800.0|   1600.0|            6800.0|            1700.0|\n",
      "|        Germany|     50|         15|         1973|      1800.0|   1800.0|   1600.0|            6800.0|            1700.0|\n",
      "|        Germany|     49|         12|         1852|      1800.0|   1800.0|   1600.0|            6800.0|            1700.0|\n",
      "|        Germany|     48|         11|         1795|      1600.0|   1800.0|   1600.0|            6800.0|            1700.0|\n",
      "+---------------+-------+-----------+-------------+------------+---------+---------+------------------+------------------+\n",
      "only showing top 20 rows\n",
      "\n"
     ]
    }
   ],
   "source": [
    "order_df.withColumn(\"max_value\", max(col(\"invoicevalue\")).over(window1)) \\\n",
    "    .withColumn(\"min_value\", min(col(\"invoicevalue\")).over(window1)) \\\n",
    "    .withColumn(\"sum_value\", sum(col(\"invoicevalue\")).over(window1)) \\\n",
    "    .withColumn(\"avg_value\", avg(col(\"invoicevalue\")).over(window1)) \\\n",
    "    .show()"
   ]
  },
  {
   "cell_type": "markdown",
   "id": "58dc89b5",
   "metadata": {},
   "source": [
    "### Rank, Dense_Rank, Row_Number"
   ]
  },
  {
   "cell_type": "code",
   "execution_count": 7,
   "id": "8985ab35",
   "metadata": {},
   "outputs": [],
   "source": [
    "window2 = Window.partitionBy(\"country\").orderBy(col(\"invoicevalue\").desc())"
   ]
  },
  {
   "cell_type": "code",
   "execution_count": 8,
   "id": "3a1e0d37",
   "metadata": {},
   "outputs": [
    {
     "name": "stdout",
     "output_type": "stream",
     "text": [
      "+---------------+-------+-----------+-------------+------------+----+----------+----------+\n",
      "|        country|weeknum|numinvoices|totalquantity|invoicevalue|rank|dense_rank|row_number|\n",
      "+---------------+-------+-----------+-------------+------------+----+----------+----------+\n",
      "|      Australia|     50|          2|          133|      387.95|   1|         1|         1|\n",
      "|      Australia|     48|          1|          107|      358.25|   2|         2|         2|\n",
      "|      Australia|     49|          1|          214|       258.9|   3|         3|         3|\n",
      "|        Austria|     50|          2|            3|      257.04|   1|         1|         1|\n",
      "|        Bahrain|     51|          1|           54|      205.74|   1|         1|         1|\n",
      "|        Belgium|     51|          2|          942|       800.0|   1|         1|         1|\n",
      "|        Belgium|     48|          1|          528|       800.0|   1|         1|         2|\n",
      "|        Belgium|     50|          2|          285|      625.16|   3|         2|         3|\n",
      "|Channel Islands|     49|          1|           80|      363.53|   1|         1|         1|\n",
      "|         Cyprus|     50|          1|          917|     1590.82|   1|         1|         1|\n",
      "|        Denmark|     49|          1|          454|      1281.5|   1|         1|         1|\n",
      "|        Finland|     50|          1|         1254|       892.8|   1|         1|         1|\n",
      "|         France|     50|          6|          529|      537.32|   1|         1|         1|\n",
      "|         France|     51|          5|          847|       500.0|   2|         2|         2|\n",
      "|         France|     49|          9|         2303|       500.0|   2|         2|         3|\n",
      "|         France|     48|          4|         1299|       500.0|   2|         2|         4|\n",
      "|        Germany|     50|         15|         1973|      1800.0|   1|         1|         1|\n",
      "|        Germany|     49|         12|         1852|      1800.0|   1|         1|         2|\n",
      "|        Germany|     51|          5|         1103|      1600.0|   3|         2|         3|\n",
      "|        Germany|     48|         11|         1795|      1600.0|   3|         2|         4|\n",
      "+---------------+-------+-----------+-------------+------------+----+----------+----------+\n",
      "only showing top 20 rows\n",
      "\n"
     ]
    }
   ],
   "source": [
    "ranked_df = order_df.withColumn(\"rank\", rank().over(window2)) \\\n",
    "    .withColumn(\"dense_rank\", dense_rank().over(window2)) \\\n",
    "    .withColumn(\"row_number\", row_number().over(window2))\n",
    "\n",
    "ranked_df.show()"
   ]
  },
  {
   "cell_type": "code",
   "execution_count": 9,
   "id": "aa4b3ee0",
   "metadata": {},
   "outputs": [
    {
     "name": "stdout",
     "output_type": "stream",
     "text": [
      "+---------------+-------+-----------+-------------+------------+----+----------+----------+\n",
      "|        country|weeknum|numinvoices|totalquantity|invoicevalue|rank|dense_rank|row_number|\n",
      "+---------------+-------+-----------+-------------+------------+----+----------+----------+\n",
      "|      Australia|     50|          2|          133|      387.95|   1|         1|         1|\n",
      "|        Austria|     50|          2|            3|      257.04|   1|         1|         1|\n",
      "|        Bahrain|     51|          1|           54|      205.74|   1|         1|         1|\n",
      "|        Belgium|     51|          2|          942|       800.0|   1|         1|         1|\n",
      "|Channel Islands|     49|          1|           80|      363.53|   1|         1|         1|\n",
      "|         Cyprus|     50|          1|          917|     1590.82|   1|         1|         1|\n",
      "|        Denmark|     49|          1|          454|      1281.5|   1|         1|         1|\n",
      "|        Finland|     50|          1|         1254|       892.8|   1|         1|         1|\n",
      "|         France|     50|          6|          529|      537.32|   1|         1|         1|\n",
      "|        Germany|     50|         15|         1973|      1800.0|   1|         1|         1|\n",
      "|        Iceland|     49|          1|          319|      711.79|   1|         1|         1|\n",
      "|          India|     49|          5|         1280|      3284.1|   1|         1|         1|\n",
      "|         Israel|     50|          1|          -56|     -227.44|   1|         1|         1|\n",
      "|          Italy|     48|          1|          164|       427.8|   1|         1|         1|\n",
      "|          Japan|     49|          2|         3897|     7384.99|   1|         1|         1|\n",
      "|      Lithuania|     48|          3|          622|     1598.06|   1|         1|         1|\n",
      "|    Netherlands|     51|          2|         6714|     8591.88|   1|         1|         1|\n",
      "|         Norway|     48|          1|         1852|     1919.14|   1|         1|         1|\n",
      "|         Poland|     48|          1|          140|      248.16|   1|         1|         1|\n",
      "|       Portugal|     49|          4|          726|     1844.67|   1|         1|         1|\n",
      "+---------------+-------+-----------+-------------+------------+----+----------+----------+\n",
      "only showing top 20 rows\n",
      "\n"
     ]
    }
   ],
   "source": [
    "ranked_df.where(\"row_number = 1\").show()"
   ]
  },
  {
   "cell_type": "markdown",
   "id": "3ee64d7d",
   "metadata": {},
   "source": [
    "### Lead & Lag"
   ]
  },
  {
   "cell_type": "code",
   "execution_count": 10,
   "id": "1c11358a",
   "metadata": {},
   "outputs": [],
   "source": [
    "window3 = Window.partitionBy(\"country\").orderBy(col(\"weeknum\"))"
   ]
  },
  {
   "cell_type": "code",
   "execution_count": 11,
   "id": "46b34e62",
   "metadata": {},
   "outputs": [
    {
     "name": "stdout",
     "output_type": "stream",
     "text": [
      "+---------------+-------+-----------+-------------+------------+-------------+---------------+-------------------+\n",
      "|        country|weeknum|numinvoices|totalquantity|invoicevalue|previous_week|previous_week_2|               diff|\n",
      "+---------------+-------+-----------+-------------+------------+-------------+---------------+-------------------+\n",
      "|      Australia|     48|          1|          107|      358.25|         NULL|           NULL|               NULL|\n",
      "|      Australia|     49|          1|          214|       258.9|       358.25|           NULL| -99.35000000000002|\n",
      "|      Australia|     50|          2|          133|      387.95|        258.9|         358.25|             129.05|\n",
      "|        Austria|     50|          2|            3|      257.04|         NULL|           NULL|               NULL|\n",
      "|        Bahrain|     51|          1|           54|      205.74|         NULL|           NULL|               NULL|\n",
      "|        Belgium|     48|          1|          528|       800.0|         NULL|           NULL|               NULL|\n",
      "|        Belgium|     50|          2|          285|      625.16|        800.0|           NULL|-174.84000000000003|\n",
      "|        Belgium|     51|          2|          942|       800.0|       625.16|          800.0| 174.84000000000003|\n",
      "|Channel Islands|     49|          1|           80|      363.53|         NULL|           NULL|               NULL|\n",
      "|         Cyprus|     50|          1|          917|     1590.82|         NULL|           NULL|               NULL|\n",
      "|        Denmark|     49|          1|          454|      1281.5|         NULL|           NULL|               NULL|\n",
      "|        Finland|     50|          1|         1254|       892.8|         NULL|           NULL|               NULL|\n",
      "|         France|     48|          4|         1299|       500.0|         NULL|           NULL|               NULL|\n",
      "|         France|     49|          9|         2303|       500.0|        500.0|           NULL|                0.0|\n",
      "|         France|     50|          6|          529|      537.32|        500.0|          500.0|  37.32000000000005|\n",
      "|         France|     51|          5|          847|       500.0|       537.32|          500.0| -37.32000000000005|\n",
      "|        Germany|     48|         11|         1795|      1600.0|         NULL|           NULL|               NULL|\n",
      "|        Germany|     49|         12|         1852|      1800.0|       1600.0|           NULL|              200.0|\n",
      "|        Germany|     50|         15|         1973|      1800.0|       1800.0|         1600.0|                0.0|\n",
      "|        Germany|     51|          5|         1103|      1600.0|       1800.0|         1800.0|             -200.0|\n",
      "+---------------+-------+-----------+-------------+------------+-------------+---------------+-------------------+\n",
      "only showing top 20 rows\n",
      "\n"
     ]
    }
   ],
   "source": [
    "lag_df = order_df \\\n",
    "    .withColumn(\"previous_week\", lag(\"invoicevalue\").over(window3)) \\\n",
    "    .withColumn(\"previous_week_2\", lag(\"invoicevalue\", 2).over(window3)) \\\n",
    "    .withColumn(\"diff\", col(\"invoicevalue\") - col(\"previous_week\"))\n",
    "\n",
    "lag_df.show()"
   ]
  },
  {
   "cell_type": "code",
   "execution_count": 12,
   "id": "819d485e",
   "metadata": {},
   "outputs": [
    {
     "name": "stdout",
     "output_type": "stream",
     "text": [
      "+---------------+-------+-----------+-------------+------------+---------+-----------+-------------------+\n",
      "|        country|weeknum|numinvoices|totalquantity|invoicevalue|next_week|next_week_2|               diff|\n",
      "+---------------+-------+-----------+-------------+------------+---------+-----------+-------------------+\n",
      "|      Australia|     48|          1|          107|      358.25|    258.9|     387.95|  99.35000000000002|\n",
      "|      Australia|     49|          1|          214|       258.9|   387.95|       NULL|            -129.05|\n",
      "|      Australia|     50|          2|          133|      387.95|     NULL|       NULL|               NULL|\n",
      "|        Austria|     50|          2|            3|      257.04|     NULL|       NULL|               NULL|\n",
      "|        Bahrain|     51|          1|           54|      205.74|     NULL|       NULL|               NULL|\n",
      "|        Belgium|     48|          1|          528|       800.0|   625.16|      800.0| 174.84000000000003|\n",
      "|        Belgium|     50|          2|          285|      625.16|    800.0|       NULL|-174.84000000000003|\n",
      "|        Belgium|     51|          2|          942|       800.0|     NULL|       NULL|               NULL|\n",
      "|Channel Islands|     49|          1|           80|      363.53|     NULL|       NULL|               NULL|\n",
      "|         Cyprus|     50|          1|          917|     1590.82|     NULL|       NULL|               NULL|\n",
      "|        Denmark|     49|          1|          454|      1281.5|     NULL|       NULL|               NULL|\n",
      "|        Finland|     50|          1|         1254|       892.8|     NULL|       NULL|               NULL|\n",
      "|         France|     48|          4|         1299|       500.0|    500.0|     537.32|                0.0|\n",
      "|         France|     49|          9|         2303|       500.0|   537.32|      500.0| -37.32000000000005|\n",
      "|         France|     50|          6|          529|      537.32|    500.0|       NULL|  37.32000000000005|\n",
      "|         France|     51|          5|          847|       500.0|     NULL|       NULL|               NULL|\n",
      "|        Germany|     48|         11|         1795|      1600.0|   1800.0|     1800.0|             -200.0|\n",
      "|        Germany|     49|         12|         1852|      1800.0|   1800.0|     1600.0|                0.0|\n",
      "|        Germany|     50|         15|         1973|      1800.0|   1600.0|       NULL|              200.0|\n",
      "|        Germany|     51|          5|         1103|      1600.0|     NULL|       NULL|               NULL|\n",
      "+---------------+-------+-----------+-------------+------------+---------+-----------+-------------------+\n",
      "only showing top 20 rows\n",
      "\n"
     ]
    }
   ],
   "source": [
    "lead_df = order_df \\\n",
    "    .withColumn(\"next_week\", lead(\"invoicevalue\").over(window3)) \\\n",
    "    .withColumn(\"next_week_2\", lead(\"invoicevalue\", 2).over(window3)) \\\n",
    "    .withColumn(\"diff\", col(\"invoicevalue\") - col(\"next_week\"))\n",
    "\n",
    "lead_df.show()"
   ]
  },
  {
   "cell_type": "code",
   "execution_count": null,
   "id": "0b441e9c",
   "metadata": {},
   "outputs": [],
   "source": []
  }
 ],
 "metadata": {
  "kernelspec": {
   "display_name": "Python 3",
   "language": "python",
   "name": "python3"
  },
  "language_info": {
   "codemirror_mode": {
    "name": "ipython",
    "version": 3
   },
   "file_extension": ".py",
   "mimetype": "text/x-python",
   "name": "python",
   "nbconvert_exporter": "python",
   "pygments_lexer": "ipython3",
   "version": "3.10.11"
  }
 },
 "nbformat": 4,
 "nbformat_minor": 5
}
