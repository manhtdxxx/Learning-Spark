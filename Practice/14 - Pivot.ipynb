{
 "cells": [
  {
   "cell_type": "code",
   "execution_count": 1,
   "id": "ece54db3",
   "metadata": {},
   "outputs": [],
   "source": [
    "from pyspark.sql import SparkSession\n",
    "from pyspark.sql.functions import *"
   ]
  },
  {
   "cell_type": "code",
   "execution_count": 2,
   "id": "9dec35cc",
   "metadata": {},
   "outputs": [
    {
     "data": {
      "text/html": [
       "\n",
       "            <div>\n",
       "                <p><b>SparkSession - in-memory</b></p>\n",
       "                \n",
       "        <div>\n",
       "            <p><b>SparkContext</b></p>\n",
       "\n",
       "            <p><a href=\"http://DESKTOP-37B9J99:4041\">Spark UI</a></p>\n",
       "\n",
       "            <dl>\n",
       "              <dt>Version</dt>\n",
       "                <dd><code>v3.5.3</code></dd>\n",
       "              <dt>Master</dt>\n",
       "                <dd><code>local[*]</code></dd>\n",
       "              <dt>AppName</dt>\n",
       "                <dd><code>Pivot</code></dd>\n",
       "            </dl>\n",
       "        </div>\n",
       "        \n",
       "            </div>\n",
       "        "
      ],
      "text/plain": [
       "<pyspark.sql.session.SparkSession at 0x1f77a8f4d00>"
      ]
     },
     "execution_count": 2,
     "metadata": {},
     "output_type": "execute_result"
    }
   ],
   "source": [
    "spark = SparkSession.builder \\\n",
    ".master(\"local[*]\") \\\n",
    ".appName(\"Pivot\") \\\n",
    ".getOrCreate()\n",
    "\n",
    "spark"
   ]
  },
  {
   "cell_type": "code",
   "execution_count": 3,
   "id": "b30b8a8a",
   "metadata": {},
   "outputs": [
    {
     "name": "stdout",
     "output_type": "stream",
     "text": [
      "+---+--------------------+--------+--------+--------------------+---------+------+-------------+---------+\n",
      "|_c0|           Timestamp|LogLevel| Service|             Message|RequestID|  User|     ClientIP|TimeTaken|\n",
      "+---+--------------------+--------+--------+--------------------+---------+------+-------------+---------+\n",
      "|  0|2023-11-20 08:40:...| WARNING|ServiceA|Performance Warnings|     6743|User96|192.168.1.102|     28ms|\n",
      "|  1|2023-11-20 08:40:...|   DEBUG|ServiceA|            File I/O|     8684|User17|192.168.1.219|     55ms|\n",
      "|  2|2023-11-20 08:40:...| WARNING|ServiceA|Performance Warnings|     6265|User13|192.168.1.173|     44ms|\n",
      "|  3|2023-11-20 08:40:...|   ERROR|ServiceA|     Critical Errors|     5821| User1|192.168.1.185|     72ms|\n",
      "|  4|2023-11-20 08:40:...|   ERROR|ServiceB|     Critical Errors|     7272|User64|192.168.1.194|     56ms|\n",
      "+---+--------------------+--------+--------+--------------------+---------+------+-------------+---------+\n",
      "only showing top 5 rows\n",
      "\n"
     ]
    }
   ],
   "source": [
    "log_df = spark.read.csv(\"./dataset/logdata.csv\", header=True, inferSchema=True)\n",
    "log_df.show(5)"
   ]
  },
  {
   "cell_type": "code",
   "execution_count": 4,
   "id": "f53428ca",
   "metadata": {},
   "outputs": [
    {
     "data": {
      "text/plain": [
       "100000"
      ]
     },
     "execution_count": 4,
     "metadata": {},
     "output_type": "execute_result"
    }
   ],
   "source": [
    "log_df.count()"
   ]
  },
  {
   "cell_type": "code",
   "execution_count": 5,
   "id": "251063fa",
   "metadata": {},
   "outputs": [
    {
     "name": "stdout",
     "output_type": "stream",
     "text": [
      "+--------+--------------------------+\n",
      "|LogLevel|Timestamp                 |\n",
      "+--------+--------------------------+\n",
      "|WARNING |2023-11-20 08:40:50.664842|\n",
      "|DEBUG   |2023-11-20 08:40:50.672154|\n",
      "|WARNING |2023-11-20 08:40:50.680263|\n",
      "|ERROR   |2023-11-20 08:40:50.688973|\n",
      "|ERROR   |2023-11-20 08:40:50.697002|\n",
      "+--------+--------------------------+\n",
      "only showing top 5 rows\n",
      "\n"
     ]
    }
   ],
   "source": [
    "log_df = log_df.select(log_df.LogLevel, log_df.Timestamp)\n",
    "log_df.show(5, False)"
   ]
  },
  {
   "cell_type": "code",
   "execution_count": 6,
   "id": "bd9a4199",
   "metadata": {},
   "outputs": [
    {
     "name": "stdout",
     "output_type": "stream",
     "text": [
      "+--------+---------+--------+\n",
      "|LogLevel|month_num|   month|\n",
      "+--------+---------+--------+\n",
      "| WARNING|       11|November|\n",
      "| WARNING|       11|November|\n",
      "|   FATAL|       11|November|\n",
      "|   DEBUG|       11|November|\n",
      "| WARNING|       11|November|\n",
      "| WARNING|       11|November|\n",
      "|   ERROR|       11|November|\n",
      "|   ERROR|       11|November|\n",
      "|   DEBUG|       11|November|\n",
      "|   ERROR|       11|November|\n",
      "|    INFO|       11|November|\n",
      "|   FATAL|       11|November|\n",
      "|   FATAL|       11|November|\n",
      "| WARNING|       11|November|\n",
      "| WARNING|       11|November|\n",
      "| WARNING|       11|November|\n",
      "|    INFO|       11|November|\n",
      "|   ERROR|       11|November|\n",
      "| WARNING|       11|November|\n",
      "|   ERROR|       11|November|\n",
      "+--------+---------+--------+\n",
      "only showing top 20 rows\n",
      "\n"
     ]
    }
   ],
   "source": [
    "df1 = log_df.withColumn(\"month_num\", month(col(\"Timestamp\"))) \\\n",
    "    .withColumn(\"month\", date_format(col(\"Timestamp\"), \"MMMM\"))\n",
    "\n",
    "df2 = df1.orderBy(\"month_num\").drop(\"TimeStamp\")\n",
    "\n",
    "df2.show()"
   ]
  },
  {
   "cell_type": "code",
   "execution_count": 7,
   "id": "d1685ec4",
   "metadata": {},
   "outputs": [
    {
     "name": "stdout",
     "output_type": "stream",
     "text": [
      "+--------+-----+-------+-----+-----+-----+\n",
      "|   month| INFO|WARNING|ERROR|DEBUG|FATAL|\n",
      "+--------+-----+-------+-----+-----+-----+\n",
      "|November|20142|  26181|15851|25901|11925|\n",
      "+--------+-----+-------+-----+-----+-----+\n",
      "\n"
     ]
    }
   ],
   "source": [
    "orders = [\"INFO\", \"WARNING\", \"ERROR\", \"DEBUG\", \"FATAL\"]\n",
    "pivot_df = df2.groupBy(\"month\").pivot(\"LogLevel\", orders).count()\n",
    "pivot_df.show()"
   ]
  },
  {
   "cell_type": "code",
   "execution_count": null,
   "id": "6861125b",
   "metadata": {},
   "outputs": [],
   "source": []
  }
 ],
 "metadata": {
  "kernelspec": {
   "display_name": "Python 3",
   "language": "python",
   "name": "python3"
  },
  "language_info": {
   "codemirror_mode": {
    "name": "ipython",
    "version": 3
   },
   "file_extension": ".py",
   "mimetype": "text/x-python",
   "name": "python",
   "nbconvert_exporter": "python",
   "pygments_lexer": "ipython3",
   "version": "3.10.11"
  }
 },
 "nbformat": 4,
 "nbformat_minor": 5
}
